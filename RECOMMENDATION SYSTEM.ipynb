{
 "cells": [
  {
   "cell_type": "markdown",
   "id": "49fba908",
   "metadata": {},
   "source": [
    "**TASK 4 - RECOMMENDATION SYSTEM**"
   ]
  },
  {
   "cell_type": "code",
   "execution_count": 1,
   "id": "620e6d66",
   "metadata": {},
   "outputs": [],
   "source": [
    "import pandas as pd\n",
    "from sklearn.feature_extraction.text import TfidfVectorizer\n",
    "from sklearn.neighbors import NearestNeighbors"
   ]
  },
  {
   "cell_type": "code",
   "execution_count": 2,
   "id": "900ef1a3",
   "metadata": {},
   "outputs": [],
   "source": [
    "# Load data\n",
    "df = pd.read_csv(\"mobiles.csv\")"
   ]
  },
  {
   "cell_type": "code",
   "execution_count": 3,
   "id": "18969fc1",
   "metadata": {},
   "outputs": [],
   "source": [
    "# Combine relevant features into a single string\n",
    "df['Combined_Features'] = (\n",
    "    df['Company Name'] + ' ' +\n",
    "    df['RAM'] + ' ' +\n",
    "    df['Front Camera'] + ' ' +\n",
    "    df['Back Camera'] + ' ' +\n",
    "    df['Processor'] + ' ' +\n",
    "    df['Battery Capacity'] + ' ' +\n",
    "    df['Screen Size']\n",
    ")"
   ]
  },
  {
   "cell_type": "code",
   "execution_count": 4,
   "id": "38a41d30",
   "metadata": {},
   "outputs": [],
   "source": [
    "# Vectorize features\n",
    "vectorizer = TfidfVectorizer(stop_words='english')\n",
    "X = vectorizer.fit_transform(df['Combined_Features'])"
   ]
  },
  {
   "cell_type": "code",
   "execution_count": 5,
   "id": "cf0fe4e8",
   "metadata": {},
   "outputs": [
    {
     "data": {
      "text/html": [
       "<style>#sk-container-id-1 {color: black;}#sk-container-id-1 pre{padding: 0;}#sk-container-id-1 div.sk-toggleable {background-color: white;}#sk-container-id-1 label.sk-toggleable__label {cursor: pointer;display: block;width: 100%;margin-bottom: 0;padding: 0.3em;box-sizing: border-box;text-align: center;}#sk-container-id-1 label.sk-toggleable__label-arrow:before {content: \"▸\";float: left;margin-right: 0.25em;color: #696969;}#sk-container-id-1 label.sk-toggleable__label-arrow:hover:before {color: black;}#sk-container-id-1 div.sk-estimator:hover label.sk-toggleable__label-arrow:before {color: black;}#sk-container-id-1 div.sk-toggleable__content {max-height: 0;max-width: 0;overflow: hidden;text-align: left;background-color: #f0f8ff;}#sk-container-id-1 div.sk-toggleable__content pre {margin: 0.2em;color: black;border-radius: 0.25em;background-color: #f0f8ff;}#sk-container-id-1 input.sk-toggleable__control:checked~div.sk-toggleable__content {max-height: 200px;max-width: 100%;overflow: auto;}#sk-container-id-1 input.sk-toggleable__control:checked~label.sk-toggleable__label-arrow:before {content: \"▾\";}#sk-container-id-1 div.sk-estimator input.sk-toggleable__control:checked~label.sk-toggleable__label {background-color: #d4ebff;}#sk-container-id-1 div.sk-label input.sk-toggleable__control:checked~label.sk-toggleable__label {background-color: #d4ebff;}#sk-container-id-1 input.sk-hidden--visually {border: 0;clip: rect(1px 1px 1px 1px);clip: rect(1px, 1px, 1px, 1px);height: 1px;margin: -1px;overflow: hidden;padding: 0;position: absolute;width: 1px;}#sk-container-id-1 div.sk-estimator {font-family: monospace;background-color: #f0f8ff;border: 1px dotted black;border-radius: 0.25em;box-sizing: border-box;margin-bottom: 0.5em;}#sk-container-id-1 div.sk-estimator:hover {background-color: #d4ebff;}#sk-container-id-1 div.sk-parallel-item::after {content: \"\";width: 100%;border-bottom: 1px solid gray;flex-grow: 1;}#sk-container-id-1 div.sk-label:hover label.sk-toggleable__label {background-color: #d4ebff;}#sk-container-id-1 div.sk-serial::before {content: \"\";position: absolute;border-left: 1px solid gray;box-sizing: border-box;top: 0;bottom: 0;left: 50%;z-index: 0;}#sk-container-id-1 div.sk-serial {display: flex;flex-direction: column;align-items: center;background-color: white;padding-right: 0.2em;padding-left: 0.2em;position: relative;}#sk-container-id-1 div.sk-item {position: relative;z-index: 1;}#sk-container-id-1 div.sk-parallel {display: flex;align-items: stretch;justify-content: center;background-color: white;position: relative;}#sk-container-id-1 div.sk-item::before, #sk-container-id-1 div.sk-parallel-item::before {content: \"\";position: absolute;border-left: 1px solid gray;box-sizing: border-box;top: 0;bottom: 0;left: 50%;z-index: -1;}#sk-container-id-1 div.sk-parallel-item {display: flex;flex-direction: column;z-index: 1;position: relative;background-color: white;}#sk-container-id-1 div.sk-parallel-item:first-child::after {align-self: flex-end;width: 50%;}#sk-container-id-1 div.sk-parallel-item:last-child::after {align-self: flex-start;width: 50%;}#sk-container-id-1 div.sk-parallel-item:only-child::after {width: 0;}#sk-container-id-1 div.sk-dashed-wrapped {border: 1px dashed gray;margin: 0 0.4em 0.5em 0.4em;box-sizing: border-box;padding-bottom: 0.4em;background-color: white;}#sk-container-id-1 div.sk-label label {font-family: monospace;font-weight: bold;display: inline-block;line-height: 1.2em;}#sk-container-id-1 div.sk-label-container {text-align: center;}#sk-container-id-1 div.sk-container {/* jupyter's `normalize.less` sets `[hidden] { display: none; }` but bootstrap.min.css set `[hidden] { display: none !important; }` so we also need the `!important` here to be able to override the default hidden behavior on the sphinx rendered scikit-learn.org. See: https://github.com/scikit-learn/scikit-learn/issues/21755 */display: inline-block !important;position: relative;}#sk-container-id-1 div.sk-text-repr-fallback {display: none;}</style><div id=\"sk-container-id-1\" class=\"sk-top-container\"><div class=\"sk-text-repr-fallback\"><pre>NearestNeighbors(metric=&#x27;cosine&#x27;, n_neighbors=6)</pre><b>In a Jupyter environment, please rerun this cell to show the HTML representation or trust the notebook. <br />On GitHub, the HTML representation is unable to render, please try loading this page with nbviewer.org.</b></div><div class=\"sk-container\" hidden><div class=\"sk-item\"><div class=\"sk-estimator sk-toggleable\"><input class=\"sk-toggleable__control sk-hidden--visually\" id=\"sk-estimator-id-1\" type=\"checkbox\" checked><label for=\"sk-estimator-id-1\" class=\"sk-toggleable__label sk-toggleable__label-arrow\">NearestNeighbors</label><div class=\"sk-toggleable__content\"><pre>NearestNeighbors(metric=&#x27;cosine&#x27;, n_neighbors=6)</pre></div></div></div></div></div>"
      ],
      "text/plain": [
       "NearestNeighbors(metric='cosine', n_neighbors=6)"
      ]
     },
     "execution_count": 5,
     "metadata": {},
     "output_type": "execute_result"
    }
   ],
   "source": [
    "# Train a KNN model\n",
    "knn = NearestNeighbors(n_neighbors=6, metric='cosine')  # 6 to include the phone itself\n",
    "knn.fit(X)"
   ]
  },
  {
   "cell_type": "code",
   "execution_count": 6,
   "id": "181f3909",
   "metadata": {},
   "outputs": [
    {
     "name": "stdout",
     "output_type": "stream",
     "text": [
      "Enter your preferences (e.g., 8GB RAM 5000mAh Snapdragon AMOLED): 8GB Ram 4500mAh snapdragon amoled\n"
     ]
    }
   ],
   "source": [
    "# User preference input\n",
    "user_input = input(\"Enter your preferences (e.g., 8GB RAM 5000mAh Snapdragon AMOLED): \")\n",
    "user_vector = vectorizer.transform([user_input])\n",
    "distances, indices = knn.kneighbors(user_vector)"
   ]
  },
  {
   "cell_type": "code",
   "execution_count": 7,
   "id": "43c1f9af",
   "metadata": {},
   "outputs": [
    {
     "data": {
      "text/html": [
       "<div>\n",
       "<style scoped>\n",
       "    .dataframe tbody tr th:only-of-type {\n",
       "        vertical-align: middle;\n",
       "    }\n",
       "\n",
       "    .dataframe tbody tr th {\n",
       "        vertical-align: top;\n",
       "    }\n",
       "\n",
       "    .dataframe thead th {\n",
       "        text-align: right;\n",
       "    }\n",
       "</style>\n",
       "<table border=\"1\" class=\"dataframe\">\n",
       "  <thead>\n",
       "    <tr style=\"text-align: right;\">\n",
       "      <th></th>\n",
       "      <th>Model Name</th>\n",
       "      <th>Company Name</th>\n",
       "      <th>RAM</th>\n",
       "      <th>Battery Capacity</th>\n",
       "      <th>Processor</th>\n",
       "      <th>Screen Size</th>\n",
       "      <th>Launched Price (India Estimated)</th>\n",
       "    </tr>\n",
       "  </thead>\n",
       "  <tbody>\n",
       "    <tr>\n",
       "      <th>0</th>\n",
       "      <td>OnePlus 10T 5G 256GB</td>\n",
       "      <td>OnePlus</td>\n",
       "      <td>12GB</td>\n",
       "      <td>4500mAh</td>\n",
       "      <td>Snapdragon 8+ Gen 1</td>\n",
       "      <td>6.7 inches</td>\n",
       "      <td>53999.7</td>\n",
       "    </tr>\n",
       "    <tr>\n",
       "      <th>1</th>\n",
       "      <td>OnePlus 12R 256GB</td>\n",
       "      <td>OnePlus</td>\n",
       "      <td>12GB</td>\n",
       "      <td>4500mAh</td>\n",
       "      <td>Snapdragon 8 Gen 2</td>\n",
       "      <td>6.7 inches</td>\n",
       "      <td>50999.7</td>\n",
       "    </tr>\n",
       "    <tr>\n",
       "      <th>2</th>\n",
       "      <td>OnePlus 10T 256GB</td>\n",
       "      <td>OnePlus</td>\n",
       "      <td>12GB</td>\n",
       "      <td>4500mAh</td>\n",
       "      <td>Snapdragon 8+ Gen 1</td>\n",
       "      <td>6.7 inches</td>\n",
       "      <td>53999.7</td>\n",
       "    </tr>\n",
       "    <tr>\n",
       "      <th>3</th>\n",
       "      <td>F25 Pro 128GB</td>\n",
       "      <td>Oppo</td>\n",
       "      <td>8GB</td>\n",
       "      <td>4500mAh</td>\n",
       "      <td>Snapdragon 778G</td>\n",
       "      <td>6.55 inches</td>\n",
       "      <td>22499.7</td>\n",
       "    </tr>\n",
       "    <tr>\n",
       "      <th>4</th>\n",
       "      <td>F25 Pro 256GB</td>\n",
       "      <td>Oppo</td>\n",
       "      <td>8GB</td>\n",
       "      <td>4500mAh</td>\n",
       "      <td>Snapdragon 778G</td>\n",
       "      <td>6.55 inches</td>\n",
       "      <td>23999.7</td>\n",
       "    </tr>\n",
       "  </tbody>\n",
       "</table>\n",
       "</div>"
      ],
      "text/plain": [
       "             Model Name Company Name   RAM Battery Capacity  \\\n",
       "0  OnePlus 10T 5G 256GB      OnePlus  12GB          4500mAh   \n",
       "1     OnePlus 12R 256GB      OnePlus  12GB          4500mAh   \n",
       "2     OnePlus 10T 256GB      OnePlus  12GB          4500mAh   \n",
       "3         F25 Pro 128GB         Oppo   8GB          4500mAh   \n",
       "4         F25 Pro 256GB         Oppo   8GB          4500mAh   \n",
       "\n",
       "             Processor  Screen Size  Launched Price (India Estimated)  \n",
       "0  Snapdragon 8+ Gen 1   6.7 inches                           53999.7  \n",
       "1   Snapdragon 8 Gen 2   6.7 inches                           50999.7  \n",
       "2  Snapdragon 8+ Gen 1   6.7 inches                           53999.7  \n",
       "3      Snapdragon 778G  6.55 inches                           22499.7  \n",
       "4      Snapdragon 778G  6.55 inches                           23999.7  "
      ]
     },
     "execution_count": 7,
     "metadata": {},
     "output_type": "execute_result"
    }
   ],
   "source": [
    "# Show recommendations\n",
    "recommendations = df.iloc[indices[0][1:]][[\n",
    "    'Model Name', 'Company Name', 'RAM', 'Battery Capacity', 'Processor', 'Screen Size', 'Launched Price (India Estimated)'\n",
    "]]\n",
    "recommendations.reset_index(drop=True, inplace=True)\n",
    "recommendations"
   ]
  }
 ],
 "metadata": {
  "kernelspec": {
   "display_name": "Python 3 (ipykernel)",
   "language": "python",
   "name": "python3"
  },
  "language_info": {
   "codemirror_mode": {
    "name": "ipython",
    "version": 3
   },
   "file_extension": ".py",
   "mimetype": "text/x-python",
   "name": "python",
   "nbconvert_exporter": "python",
   "pygments_lexer": "ipython3",
   "version": "3.11.5"
  }
 },
 "nbformat": 4,
 "nbformat_minor": 5
}
