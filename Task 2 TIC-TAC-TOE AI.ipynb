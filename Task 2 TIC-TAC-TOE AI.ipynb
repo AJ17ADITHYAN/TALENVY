{
 "cells": [
  {
   "cell_type": "markdown",
   "id": "f865a65d",
   "metadata": {},
   "source": [
    "### **Task 2**"
   ]
  },
  {
   "cell_type": "markdown",
   "id": "d2dd47d8",
   "metadata": {},
   "source": [
    "TIC-TAC-TOE AI"
   ]
  },
  {
   "cell_type": "code",
   "execution_count": 1,
   "id": "f08a4d06",
   "metadata": {},
   "outputs": [],
   "source": [
    "import math"
   ]
  },
  {
   "cell_type": "code",
   "execution_count": 2,
   "id": "14d4ec8c",
   "metadata": {},
   "outputs": [],
   "source": [
    "def print_board(board):\n",
    "    for row in board:\n",
    "        print(\" | \".join(row))\n",
    "        print(\"-\" * 9)"
   ]
  },
  {
   "cell_type": "code",
   "execution_count": 3,
   "id": "66a7387d",
   "metadata": {},
   "outputs": [],
   "source": [
    "def check_winner(board):\n",
    "    for row in board:\n",
    "        if row[0] == row[1] == row[2] and row[0] != ' ':\n",
    "            return row[0]\n",
    "    \n",
    "    for col in range(3):\n",
    "        if board[0][col] == board[1][col] == board[2][col] and board[0][col] != ' ':\n",
    "            return board[0][col]\n",
    "    \n",
    "    if board[0][0] == board[1][1] == board[2][2] and board[0][0] != ' ':\n",
    "        return board[0][0]\n",
    "    if board[0][2] == board[1][1] == board[2][0] and board[0][2] != ' ':\n",
    "        return board[0][2]\n",
    "    \n",
    "    return None"
   ]
  },
  {
   "cell_type": "code",
   "execution_count": 4,
   "id": "1474085f",
   "metadata": {},
   "outputs": [],
   "source": [
    "def is_moves_left(board):\n",
    "    return any(' ' in row for row in board)"
   ]
  },
  {
   "cell_type": "code",
   "execution_count": 6,
   "id": "5313e43c",
   "metadata": {},
   "outputs": [],
   "source": [
    "def minimax(board, depth, is_max):\n",
    "    winner = check_winner(board)\n",
    "    if winner == 'X':\n",
    "        return -10 + depth\n",
    "    elif winner == 'O':\n",
    "        return 10 - depth\n",
    "    elif not is_moves_left(board):\n",
    "        return 0\n",
    "    \n",
    "    if is_max:\n",
    "        best = -math.inf\n",
    "        for i in range(3):\n",
    "            for j in range(3):\n",
    "                if board[i][j] == ' ':\n",
    "                    board[i][j] = 'O'\n",
    "                    best = max(best, minimax(board, depth + 1, False))\n",
    "                    board[i][j] = ' '\n",
    "        return best\n",
    "    else:\n",
    "        best = math.inf\n",
    "        for i in range(3):\n",
    "            for j in range(3):\n",
    "                if board[i][j] == ' ':\n",
    "                    board[i][j] = 'X'\n",
    "                    best = min(best, minimax(board, depth + 1, True))\n",
    "                    board[i][j] = ' '\n",
    "        return best\n"
   ]
  },
  {
   "cell_type": "code",
   "execution_count": 7,
   "id": "8776b56c",
   "metadata": {},
   "outputs": [],
   "source": [
    "def find_best_move(board):\n",
    "    best_val = -math.inf\n",
    "    best_move = (-1, -1)\n",
    "    \n",
    "    for i in range(3):\n",
    "        for j in range(3):\n",
    "            if board[i][j] == ' ':\n",
    "                board[i][j] = 'O'\n",
    "                move_val = minimax(board, 0, False)\n",
    "                board[i][j] = ' '\n",
    "                if move_val > best_val:\n",
    "                    best_val = move_val\n",
    "                    best_move = (i, j)\n",
    "    return best_move"
   ]
  },
  {
   "cell_type": "code",
   "execution_count": 8,
   "id": "20b8008a",
   "metadata": {},
   "outputs": [],
   "source": [
    "def main():\n",
    "    board = [[' ' for _ in range(3)] for _ in range(3)]\n",
    "    print(\"Welcome to Tic-Tac-Toe! You are 'X', AI is 'O'.\")\n",
    "    print_board(board)\n",
    "    \n",
    "    while is_moves_left(board):\n",
    "        row, col = map(int, input(\"Enter your move (row and column 0-2): \").split())\n",
    "        if board[row][col] != ' ':\n",
    "            print(\"Invalid move. Try again.\")\n",
    "            continue\n",
    "        \n",
    "        board[row][col] = 'X'\n",
    "        print_board(board)\n",
    "        \n",
    "        if check_winner(board):\n",
    "            print(f\"Player {check_winner(board)} wins!\")\n",
    "            break\n",
    "        \n",
    "        if not is_moves_left(board):\n",
    "            print(\"It's a draw!\")\n",
    "            break\n",
    "        \n",
    "        print(\"AI's move:\")\n",
    "        ai_move = find_best_move(board)\n",
    "        board[ai_move[0]][ai_move[1]] = 'O'\n",
    "        print_board(board)\n",
    "        \n",
    "        if check_winner(board):\n",
    "            print(f\"Player {check_winner(board)} wins!\")\n",
    "            break"
   ]
  },
  {
   "cell_type": "code",
   "execution_count": 11,
   "id": "a6fec0d6",
   "metadata": {},
   "outputs": [
    {
     "name": "stdout",
     "output_type": "stream",
     "text": [
      "Welcome to Tic-Tac-Toe! You are 'X', AI is 'O'.\n",
      "  |   |  \n",
      "---------\n",
      "  |   |  \n",
      "---------\n",
      "  |   |  \n",
      "---------\n",
      "Enter your move (row and column 0-2): 0 2\n",
      "  |   | X\n",
      "---------\n",
      "  |   |  \n",
      "---------\n",
      "  |   |  \n",
      "---------\n",
      "AI's move:\n",
      "  |   | X\n",
      "---------\n",
      "  | O |  \n",
      "---------\n",
      "  |   |  \n",
      "---------\n",
      "Enter your move (row and column 0-2): 2 0\n",
      "  |   | X\n",
      "---------\n",
      "  | O |  \n",
      "---------\n",
      "X |   |  \n",
      "---------\n",
      "AI's move:\n",
      "  | O | X\n",
      "---------\n",
      "  | O |  \n",
      "---------\n",
      "X |   |  \n",
      "---------\n",
      "Enter your move (row and column 0-2): 2 1\n",
      "  | O | X\n",
      "---------\n",
      "  | O |  \n",
      "---------\n",
      "X | X |  \n",
      "---------\n",
      "AI's move:\n",
      "  | O | X\n",
      "---------\n",
      "  | O |  \n",
      "---------\n",
      "X | X | O\n",
      "---------\n",
      "Enter your move (row and column 0-2): 1 0\n",
      "  | O | X\n",
      "---------\n",
      "X | O |  \n",
      "---------\n",
      "X | X | O\n",
      "---------\n",
      "AI's move:\n",
      "O | O | X\n",
      "---------\n",
      "X | O |  \n",
      "---------\n",
      "X | X | O\n",
      "---------\n",
      "Player O wins!\n"
     ]
    }
   ],
   "source": [
    "if __name__ == \"__main__\":\n",
    "    main()"
   ]
  }
 ],
 "metadata": {
  "kernelspec": {
   "display_name": "Python 3 (ipykernel)",
   "language": "python",
   "name": "python3"
  },
  "language_info": {
   "codemirror_mode": {
    "name": "ipython",
    "version": 3
   },
   "file_extension": ".py",
   "mimetype": "text/x-python",
   "name": "python",
   "nbconvert_exporter": "python",
   "pygments_lexer": "ipython3",
   "version": "3.11.5"
  }
 },
 "nbformat": 4,
 "nbformat_minor": 5
}
