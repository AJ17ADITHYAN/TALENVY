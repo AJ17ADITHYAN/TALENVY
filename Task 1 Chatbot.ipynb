{
 "cells": [
  {
   "cell_type": "markdown",
   "id": "8c7fe857",
   "metadata": {},
   "source": [
    "### **Task 1**"
   ]
  },
  {
   "cell_type": "markdown",
   "id": "d06618ff",
   "metadata": {},
   "source": [
    "CHATBOT WITH RULE-BASED RESPONSES"
   ]
  },
  {
   "cell_type": "code",
   "execution_count": 1,
   "id": "27c8e2e9",
   "metadata": {},
   "outputs": [],
   "source": [
    "#import necessary modules\n",
    "import re\n",
    "import nltk\n",
    "from datetime import datetime\n",
    "from nltk.tokenize import word_tokenize\n",
    "from nltk.stem import WordNetLemmatizer"
   ]
  },
  {
   "cell_type": "code",
   "execution_count": 2,
   "id": "20be1abc",
   "metadata": {},
   "outputs": [
    {
     "name": "stderr",
     "output_type": "stream",
     "text": [
      "[nltk_data] Downloading package punkt to\n",
      "[nltk_data]     C:\\Users\\Administrator\\AppData\\Roaming\\nltk_data...\n",
      "[nltk_data]   Package punkt is already up-to-date!\n",
      "[nltk_data] Downloading package wordnet to\n",
      "[nltk_data]     C:\\Users\\Administrator\\AppData\\Roaming\\nltk_data...\n",
      "[nltk_data]   Package wordnet is already up-to-date!\n"
     ]
    },
    {
     "data": {
      "text/plain": [
       "True"
      ]
     },
     "execution_count": 2,
     "metadata": {},
     "output_type": "execute_result"
    }
   ],
   "source": [
    "# Download necessary NLTK resources\n",
    "nltk.download('punkt')\n",
    "nltk.download('wordnet')"
   ]
  },
  {
   "cell_type": "code",
   "execution_count": 3,
   "id": "7c338cd4",
   "metadata": {},
   "outputs": [],
   "source": [
    "# Initialize lemmatizer\n",
    "lemmatizer = WordNetLemmatizer()"
   ]
  },
  {
   "cell_type": "code",
   "execution_count": 4,
   "id": "cc010067",
   "metadata": {},
   "outputs": [],
   "source": [
    "# Predefined responses based on intents\n",
    "responses = {\n",
    "    \"greeting\": [\"Hello! How can I assist you?\", \"Hi there! How can I help?\"],\n",
    "    \"name\": [\"I am a chatbot with NLP capabilities!\"],\n",
    "    \"time\": [lambda: f\"The current time is {datetime.now().strftime('%H:%M:%S')}\"],\n",
    "    \"joke\": [\"Why don’t scientists trust atoms? Because they make up everything!\"],\n",
    "    \"farewell\": [\"Goodbye! Have a great day!\"],\n",
    "}"
   ]
  },
  {
   "cell_type": "code",
   "execution_count": 5,
   "id": "49ca06c6",
   "metadata": {},
   "outputs": [],
   "source": [
    "# Function to process user input\n",
    "def preprocess_text(text):\n",
    "    tokens = word_tokenize(text.lower())  # Tokenization and lowercasing\n",
    "    return \" \".join([lemmatizer.lemmatize(word) for word in tokens])  # Lemmatization"
   ]
  },
  {
   "cell_type": "code",
   "execution_count": 6,
   "id": "334f86c6",
   "metadata": {},
   "outputs": [],
   "source": [
    "# Function to classify intent\n",
    "def classify_intent(user_input):\n",
    "    processed_input = preprocess_text(user_input)\n",
    "    \n",
    "    if any(greet in processed_input for greet in [\"hi\", \"hello\", \"hey\"]):\n",
    "        return \"greeting\"\n",
    "    elif re.search(r\"what is your name\\??\", processed_input):\n",
    "        return \"name\"\n",
    "    elif \"time\" in processed_input:\n",
    "        return \"time\"\n",
    "    elif \"joke\" in processed_input:\n",
    "        return \"joke\"\n",
    "    elif \"bye\" in processed_input:\n",
    "        return \"farewell\"\n",
    "    else:\n",
    "        return \"unknown\""
   ]
  },
  {
   "cell_type": "code",
   "execution_count": 7,
   "id": "72c66b43",
   "metadata": {},
   "outputs": [],
   "source": [
    "# Main chatbot function\n",
    "def chatbot():\n",
    "    print(\"Hello! I am a chatbot with NLP. Type 'bye' to exit.\")\n",
    "    unknown_inputs = []\n",
    "    \n",
    "    while True:\n",
    "        user_input = input(\"You: \").strip()\n",
    "        intent = classify_intent(user_input)\n",
    "        \n",
    "        if intent == \"unknown\":\n",
    "            print(\"Bot: Sorry, I don't understand that.\")\n",
    "            unknown_inputs.append(user_input)\n",
    "        else:\n",
    "            response = responses[intent]\n",
    "            if callable(response[0]):\n",
    "                print(f\"Bot: {response[0]()}\")  # Call function if response is dynamic\n",
    "            else:\n",
    "                print(f\"Bot: {response[0]}\")\n",
    "        \n",
    "        if intent == \"farewell\":\n",
    "            break\n",
    "    \n",
    "    if unknown_inputs:\n",
    "        print(\"Bot: Here are the unknown inputs for improvement:\")\n",
    "        for ui in unknown_inputs:\n",
    "            print(f\"- {ui}\")"
   ]
  },
  {
   "cell_type": "code",
   "execution_count": 8,
   "id": "14879738",
   "metadata": {},
   "outputs": [
    {
     "name": "stdout",
     "output_type": "stream",
     "text": [
      "Hello! I am a chatbot with NLP. Type 'bye' to exit.\n",
      "You: hi\n",
      "Bot: Hello! How can I assist you?\n",
      "You: what is the time\n",
      "Bot: The current time is 21:12:11\n",
      "You: date???\n",
      "Bot: Sorry, I don't understand that.\n",
      "You: what is your name\n",
      "Bot: I am a chatbot with NLP capabilities!\n",
      "You: joke\n",
      "Bot: Why don’t scientists trust atoms? Because they make up everything!\n",
      "You: goodbye buddy\n",
      "Bot: Goodbye! Have a great day!\n",
      "Bot: Here are the unknown inputs for improvement:\n",
      "- date???\n"
     ]
    }
   ],
   "source": [
    "# Run the chatbot\n",
    "chatbot()"
   ]
  },
  {
   "cell_type": "markdown",
   "id": "e4dd21c9",
   "metadata": {},
   "source": [
    "For future improvements we can add a json file for storing key words and corresponding responses based on the purpose of the chatbot."
   ]
  }
 ],
 "metadata": {
  "kernelspec": {
   "display_name": "Python 3 (ipykernel)",
   "language": "python",
   "name": "python3"
  },
  "language_info": {
   "codemirror_mode": {
    "name": "ipython",
    "version": 3
   },
   "file_extension": ".py",
   "mimetype": "text/x-python",
   "name": "python",
   "nbconvert_exporter": "python",
   "pygments_lexer": "ipython3",
   "version": "3.11.5"
  }
 },
 "nbformat": 4,
 "nbformat_minor": 5
}
